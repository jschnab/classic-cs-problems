{
 "cells": [
  {
   "cell_type": "code",
   "execution_count": 1,
   "metadata": {},
   "outputs": [],
   "source": [
    "from typing import NamedTuple, List"
   ]
  },
  {
   "cell_type": "code",
   "execution_count": 2,
   "metadata": {},
   "outputs": [],
   "source": [
    "class Item(NamedTuple):\n",
    "    name: str\n",
    "    weight: int\n",
    "    value: float"
   ]
  },
  {
   "cell_type": "code",
   "execution_count": 13,
   "metadata": {},
   "outputs": [],
   "source": [
    "def knapsack(items: List[Item], max_capacity: int) -> List[Item]:\n",
    "    # building the dynamic programming table\n",
    "    table: List[List[float]] = [[0.0 for _ in range(max_capacity + 1)] for __ in range(len(items) + 1)]\n",
    "        \n",
    "    for i, item in enumerate(items):\n",
    "        for capacity in range(1, max_capacity + 1):\n",
    "            \n",
    "            previous_items_value: float = table[i][capacity]\n",
    "                \n",
    "            if capacity >= item.weight:  # item fits in knapsack\n",
    "                value_freeing_weight_for_item: float = table[i][capacity - item.weight]\n",
    "                # only take if more valuable than previous item\n",
    "                table[i + 1][capacity] = max(value_freeing_weight_for_item + item.value, previous_items_value)\n",
    "                \n",
    "            else:  # no room for this item\n",
    "                table[i + 1][capacity] = previous_items_value\n",
    "    \n",
    "    print(table)\n",
    "    # figuring out solution from table\n",
    "    solution: List[Item] = []\n",
    "    capacity = max_capacity\n",
    "    \n",
    "    for i in range(len(items), 0, -1):  # works backwards\n",
    "        # was this item used ?\n",
    "        if table[i - 1][capacity] != table[i][capacity]:\n",
    "            solution.append(items[i - 1])\n",
    "            # if the item was used remove its weight\n",
    "            capacity -= items[i - 1].weight\n",
    "    \n",
    "    return solution"
   ]
  },
  {
   "cell_type": "code",
   "execution_count": 8,
   "metadata": {},
   "outputs": [
    {
     "name": "stdout",
     "output_type": "stream",
     "text": [
      "[Item(name='paintings', weight=10, value=1000), Item(name='jewelry', weight=1, value=4000), Item(name='clothing', weight=20, value=800), Item(name='laptop', weight=3, value=1000), Item(name='stereo', weight=35, value=400), Item(name='candlesticks', weight=2, value=300)]\n"
     ]
    }
   ],
   "source": [
    "items: List[Item]= [\n",
    "    Item(\"television\", 50, 500),\n",
    "    Item(\"candlesticks\", 2, 300),\n",
    "    Item(\"stereo\", 35, 400),\n",
    "    Item(\"laptop\", 3, 1000),\n",
    "    Item(\"food\", 15, 50),\n",
    "    Item(\"clothing\", 20, 800),\n",
    "    Item(\"jewelry\", 1, 4000),\n",
    "    Item(\"books\", 100, 400),\n",
    "    Item(\"printer\", 18, 30),\n",
    "    Item(\"refrigerator\", 200, 700),\n",
    "    Item(\"paintings\", 10, 1000)\n",
    "]\n",
    "        \n",
    "print(knapsack(items, 75))"
   ]
  },
  {
   "cell_type": "code",
   "execution_count": 16,
   "metadata": {},
   "outputs": [
    {
     "name": "stdout",
     "output_type": "stream",
     "text": [
      "[[0.0, 0.0, 0.0, 0.0], [0.0, 5.0, 5.0, 5.0], [0.0, 5.0, 10.0, 15.0], [0.0, 15.0, 20.0, 25.0]]\n",
      "[Item(name='book', weight=1, value=15), Item(name='flashlight', weight=2, value=10)]\n"
     ]
    }
   ],
   "source": [
    "items = [Item(\"matches\", 1, 5), Item(\"flashlight\", 2, 10), Item(\"book\", 1, 15)]\n",
    "print(knapsack(items, 3))"
   ]
  }
 ],
 "metadata": {
  "kernelspec": {
   "display_name": "Python 3",
   "language": "python",
   "name": "python3"
  },
  "language_info": {
   "codemirror_mode": {
    "name": "ipython",
    "version": 3
   },
   "file_extension": ".py",
   "mimetype": "text/x-python",
   "name": "python",
   "nbconvert_exporter": "python",
   "pygments_lexer": "ipython3",
   "version": "3.7.3"
  }
 },
 "nbformat": 4,
 "nbformat_minor": 2
}
