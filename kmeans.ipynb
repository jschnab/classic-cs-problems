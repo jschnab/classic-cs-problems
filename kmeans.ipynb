{
 "cells": [
  {
   "cell_type": "code",
   "execution_count": 21,
   "metadata": {},
   "outputs": [],
   "source": [
    "exec('from __future__ import annotations')\n",
    "from typing import TypeVar, Generic, List, Sequence, Iterable, Iterator, Tuple\n",
    "from copy import deepcopy\n",
    "from functools import partial\n",
    "from random import uniform\n",
    "from statistics import mean, pstdev\n",
    "from dataclasses import dataclass\n",
    "from math import sqrt"
   ]
  },
  {
   "cell_type": "code",
   "execution_count": 17,
   "metadata": {},
   "outputs": [],
   "source": [
    "def zscores(original: Sequence[float]) -> List[float]:\n",
    "    avg: float = mean(original)\n",
    "    std: float = pstdev(original)\n",
    "    if std == 0:\n",
    "        return [0] * len(original)\n",
    "    return [(i - avg) / std for i in original]"
   ]
  },
  {
   "cell_type": "code",
   "execution_count": 18,
   "metadata": {},
   "outputs": [],
   "source": [
    "@dataclass\n",
    "class DataPoint:\n",
    "    def __init__(self, initial: Iterable[float]) -> None:\n",
    "        self._originals: Tuple[float, ...] = tuple(initial)\n",
    "        self.dimensions: Tuple[float, ...] = tuple(initial)\n",
    "            \n",
    "    @property\n",
    "    def num_dimensions(self) -> int:\n",
    "        return len(self.dimensions)\n",
    "    \n",
    "    def distance(self, other) -> float:\n",
    "        combined: Iterator[Tuple[float, float]] = zip(self.dimensions, other.dimensions)\n",
    "        differences: List[float] = [(x - y) ** 2 for x, y in combined]\n",
    "        return sqrt(sum(differences))\n",
    "    \n",
    "    def __eq__(self, other) -> bool:\n",
    "        return self.dimensions == other.dimensions\n",
    "    \n",
    "    def __repr__(self) -> str:\n",
    "        return self._originals.__repr__()"
   ]
  },
  {
   "cell_type": "code",
   "execution_count": 25,
   "metadata": {},
   "outputs": [],
   "source": [
    "Point = TypeVar('Point', bound=DataPoint)\n",
    "\n",
    "class KMeans(Generic[Point]):\n",
    "    @dataclass\n",
    "    class Cluster:\n",
    "        points: List[Point]\n",
    "        centroid: DataPoint\n",
    "            \n",
    "    def __init__(self, k:int, points: List[Point]) -> None:\n",
    "        if k <= 1:\n",
    "            raise ValueError(\"k must be >= 1\")\n",
    "        self._points: List[Point] = points\n",
    "        self._zscore_normalize()\n",
    "        \n",
    "        # initialize empty clusters with random centroids\n",
    "        self._clusters: List[KMeans.Cluster] = []\n",
    "        for _ in range(k):\n",
    "            rand_point: DataPoint = self._random_point()\n",
    "            cluster: KMeans.Cluster = KMeans.Cluster([], rand_point)\n",
    "            self._clusters.append(cluster)\n",
    "            \n",
    "    @property\n",
    "    def _centroids(self) -> List[DataPoint]:\n",
    "        return [x.centroid for x in self._clusters]\n",
    "    \n",
    "    def _dimension_slice(self, dimension: int) -> List[float]:\n",
    "        return [x.dimensions[dimension] for x in self._points]\n",
    "                                 \n",
    "    def _zscore_normalize(self) -> None:\n",
    "        zscored: List[List[float]] = [[] for _ in range(len(self._points))]\n",
    "        for dimension in range(self._points[0].num_dimensions):\n",
    "            dimension_slice: List[float] = self._dimension_slice(dimension)\n",
    "            for index, zscore in enumerate(zscores(dimension_slice)):\n",
    "                zscored[index].append(zscore)\n",
    "        for i in range(len(self._points)):\n",
    "            self._points[i].dimensions = tuple(zscored[i])\n",
    "            \n",
    "    def _random_point(self) -> DataPoint:\n",
    "        rand_dimensions: List[float] = []\n",
    "        for dimension in range(self._points[0].num_dimensions):\n",
    "            values: List[float] = self._dimension_slice(dimension)\n",
    "            rand_value: float = uniform(min(values), max(values))\n",
    "            rand_dimensions.append(rand_value)\n",
    "        return DataPoint(rand_dimensions)\n",
    "    \n",
    "    def _assign_clusters(self) -> None:\n",
    "        for point in self._points:\n",
    "            closest: DataPoint = min(self._centroids, key=partial(DataPoint.distance, point))\n",
    "            idx: int = self._centroids.index(closest)\n",
    "            cluster: KMeans.Cluster = self._clusters[idx]\n",
    "            cluster.points.append(point)\n",
    "            \n",
    "    def _generate_centroids(self) -> None:\n",
    "        \"\"\"Find the center of each cluster and move the centroid there.\"\"\"\n",
    "        for cluster in self._clusters:\n",
    "            if len(cluster.points) == 0:\n",
    "                continue\n",
    "            means: List[float] = []\n",
    "            for dimension in range(cluster.points[0].num_dimensions):\n",
    "                dimension_slice: List[float] = [p.dimensions[dimension] for p in cluster.points]\n",
    "                means.append(mean(dimension_slice))\n",
    "            cluster.centroid = DataPoint(means)\n",
    "            \n",
    "    def run(self, max_iterations: int = 100) -> List[KMeans.Cluster]:\n",
    "        for iteration in range(max_iterations):\n",
    "            for cluster in self._clusters:\n",
    "                cluster.points.clear()\n",
    "            self._assign_clusters()\n",
    "            old_centroids: List[DataPoint] = deepcopy(self._centroids)\n",
    "            self._generate_centroids()\n",
    "            if old_centroids == self._centroids:\n",
    "                print(f\"Converged after {iteration} iterations.\")\n",
    "                return self._clusters\n",
    "        return self._clusters"
   ]
  },
  {
   "cell_type": "code",
   "execution_count": 26,
   "metadata": {},
   "outputs": [
    {
     "name": "stdout",
     "output_type": "stream",
     "text": [
      "Converged after 1 iterations.\n",
      "Cluster 0: [(2.0, 2.0, 5.0)]\n",
      "Cluster 1: [(2.0, 1.0, 1.0), (3.0, 1.5, 2.5)]\n"
     ]
    }
   ],
   "source": [
    "point1: DataPoint = DataPoint([2.0, 1.0, 1.0])\n",
    "point2: DataPoint = DataPoint([2.0, 2.0, 5.0])\n",
    "point3: DataPoint = DataPoint([3.0, 1.5, 2.5])\n",
    "kmeans_test: KMeans[DataPoint] = KMeans(2, [point1, point2, point3])\n",
    "test_clusters: List[KMeans.Cluster] = kmeans_test.run()\n",
    "for index, cluster in enumerate(test_clusters):\n",
    "    print(f\"Cluster {index}: {cluster.points}\")"
   ]
  }
 ],
 "metadata": {
  "kernelspec": {
   "display_name": "Python 3",
   "language": "python",
   "name": "python3"
  },
  "language_info": {
   "codemirror_mode": {
    "name": "ipython",
    "version": 3
   },
   "file_extension": ".py",
   "mimetype": "text/x-python",
   "name": "python",
   "nbconvert_exporter": "python",
   "pygments_lexer": "ipython3",
   "version": "3.7.3"
  }
 },
 "nbformat": 4,
 "nbformat_minor": 2
}
