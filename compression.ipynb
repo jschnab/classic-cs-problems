{
 "cells": [
  {
   "cell_type": "code",
   "execution_count": 1,
   "metadata": {},
   "outputs": [],
   "source": [
    "import sys\n",
    "from random import choice"
   ]
  },
  {
   "cell_type": "markdown",
   "metadata": {},
   "source": [
    "# Size in bytes of common data types"
   ]
  },
  {
   "cell_type": "code",
   "execution_count": 2,
   "metadata": {},
   "outputs": [],
   "source": [
    "integer = 1\n",
    "flo = 1.0\n",
    "char = 'a'\n",
    "string = 'hello'\n",
    "boolean = True"
   ]
  },
  {
   "cell_type": "code",
   "execution_count": 3,
   "metadata": {},
   "outputs": [
    {
     "data": {
      "text/plain": [
       "28"
      ]
     },
     "execution_count": 3,
     "metadata": {},
     "output_type": "execute_result"
    }
   ],
   "source": [
    "sys.getsizeof(integer)"
   ]
  },
  {
   "cell_type": "code",
   "execution_count": 4,
   "metadata": {},
   "outputs": [
    {
     "data": {
      "text/plain": [
       "24"
      ]
     },
     "execution_count": 4,
     "metadata": {},
     "output_type": "execute_result"
    }
   ],
   "source": [
    "sys.getsizeof(flo)"
   ]
  },
  {
   "cell_type": "code",
   "execution_count": 5,
   "metadata": {},
   "outputs": [
    {
     "data": {
      "text/plain": [
       "50"
      ]
     },
     "execution_count": 5,
     "metadata": {},
     "output_type": "execute_result"
    }
   ],
   "source": [
    "sys.getsizeof(char)"
   ]
  },
  {
   "cell_type": "code",
   "execution_count": 6,
   "metadata": {},
   "outputs": [
    {
     "data": {
      "text/plain": [
       "54"
      ]
     },
     "execution_count": 6,
     "metadata": {},
     "output_type": "execute_result"
    }
   ],
   "source": [
    "sys.getsizeof(string)"
   ]
  },
  {
   "cell_type": "code",
   "execution_count": 7,
   "metadata": {},
   "outputs": [
    {
     "data": {
      "text/plain": [
       "28"
      ]
     },
     "execution_count": 7,
     "metadata": {},
     "output_type": "execute_result"
    }
   ],
   "source": [
    "sys.getsizeof(boolean)"
   ]
  },
  {
   "cell_type": "code",
   "execution_count": 8,
   "metadata": {},
   "outputs": [
    {
     "data": {
      "text/plain": [
       "52"
      ]
     },
     "execution_count": 8,
     "metadata": {},
     "output_type": "execute_result"
    }
   ],
   "source": [
    "sys.getsizeof('ATG')"
   ]
  },
  {
   "cell_type": "markdown",
   "metadata": {},
   "source": [
    "# Binary numbers"
   ]
  },
  {
   "cell_type": "code",
   "execution_count": 9,
   "metadata": {},
   "outputs": [
    {
     "name": "stdout",
     "output_type": "stream",
     "text": [
      "bin( 0):   0b0\n",
      "bin( 1):   0b1\n",
      "bin( 3):   0b11\n",
      "bin(-1):  -0b1\n"
     ]
    }
   ],
   "source": [
    "print('bin( 0):  ', bin(0))\n",
    "print('bin( 1):  ', bin(1))\n",
    "print('bin( 3):  ', bin(3))\n",
    "print('bin(-1): ', bin(-1))"
   ]
  },
  {
   "cell_type": "code",
   "execution_count": 10,
   "metadata": {},
   "outputs": [
    {
     "data": {
      "text/plain": [
       "str"
      ]
     },
     "execution_count": 10,
     "metadata": {},
     "output_type": "execute_result"
    }
   ],
   "source": [
    "type(bin(1))"
   ]
  },
  {
   "cell_type": "code",
   "execution_count": 11,
   "metadata": {},
   "outputs": [
    {
     "data": {
      "text/plain": [
       "8"
      ]
     },
     "execution_count": 11,
     "metadata": {},
     "output_type": "execute_result"
    }
   ],
   "source": [
    "int(bin(8), 2)"
   ]
  },
  {
   "cell_type": "markdown",
   "metadata": {},
   "source": [
    "## Bitwise left shift: x << y\n",
    "This will return x with the bits shifted to the left by y places, new bits on the right side are zeros.\n",
    "\n",
    "This is equivalent to $x \\thinspace 2^y$."
   ]
  },
  {
   "cell_type": "code",
   "execution_count": 12,
   "metadata": {},
   "outputs": [
    {
     "name": "stdout",
     "output_type": "stream",
     "text": [
      "bin(5)   :   0b101\n",
      "bin(5<<1):   0b1010\n"
     ]
    }
   ],
   "source": [
    "print('bin(5)   :  ', bin(5))\n",
    "print('bin(5<<1):  ', bin(5<<1))"
   ]
  },
  {
   "cell_type": "markdown",
   "metadata": {},
   "source": [
    "## Bitwise right shift: x >> y\n",
    "This will shift x to the right by y places.\n",
    "\n",
    "This is equivalent to $x \\thinspace // \\thinspace 2^y$."
   ]
  },
  {
   "cell_type": "code",
   "execution_count": 13,
   "metadata": {},
   "outputs": [
    {
     "name": "stdout",
     "output_type": "stream",
     "text": [
      "bin(5)   :   0b101\n",
      "bin(5>>1):   0b10\n"
     ]
    }
   ],
   "source": [
    "print('bin(5)   :  ', bin(5))\n",
    "print('bin(5>>1):  ', bin(5>>1))"
   ]
  },
  {
   "cell_type": "markdown",
   "metadata": {},
   "source": [
    "## Bitwise AND: x & y\n",
    "Each bit in the output is 1 if both bits are 1 in the input, else 0."
   ]
  },
  {
   "cell_type": "code",
   "execution_count": 14,
   "metadata": {},
   "outputs": [
    {
     "name": "stdout",
     "output_type": "stream",
     "text": [
      "bin(5)  :   0b101\n",
      "bin(6)  :   0b110\n",
      "bin(5&6):   0b100\n"
     ]
    }
   ],
   "source": [
    "print('bin(5)  :  ', bin(5))\n",
    "print('bin(6)  :  ', bin(6))\n",
    "print('bin(5&6):  ', bin(5&6))"
   ]
  },
  {
   "cell_type": "markdown",
   "metadata": {},
   "source": [
    "## Bitwise OR: x | y\n",
    "Each bit in the output is 1 if at least one bit in the input is 1, else 0."
   ]
  },
  {
   "cell_type": "code",
   "execution_count": 15,
   "metadata": {},
   "outputs": [
    {
     "name": "stdout",
     "output_type": "stream",
     "text": [
      "bin(5)  :   0b101\n",
      "bin(6)  :   0b110\n",
      "bin(5|6):   0b111\n"
     ]
    }
   ],
   "source": [
    "print('bin(5)  :  ', bin(5))\n",
    "print('bin(6)  :  ', bin(6))\n",
    "print('bin(5|6):  ', bin(5|6))"
   ]
  },
  {
   "cell_type": "markdown",
   "metadata": {},
   "source": [
    "## Bitwise complement: ~x\n",
    "This returns the complement of x minus the number you get by flipping 1 to 0 and vice versa. The same as -x - 1."
   ]
  },
  {
   "cell_type": "code",
   "execution_count": 16,
   "metadata": {},
   "outputs": [
    {
     "name": "stdout",
     "output_type": "stream",
     "text": [
      "bin(5) : -0b110\n"
     ]
    }
   ],
   "source": [
    "print('bin(5) :', bin(~5))"
   ]
  },
  {
   "cell_type": "markdown",
   "metadata": {},
   "source": [
    "## Bitwise XOR: x ^ y\n",
    "Each bit in the output is 1 if bits in the output are different, else 0."
   ]
  },
  {
   "cell_type": "code",
   "execution_count": 17,
   "metadata": {},
   "outputs": [
    {
     "name": "stdout",
     "output_type": "stream",
     "text": [
      "bin(5)  :   0b101\n",
      "bin(6)  :   0b110\n",
      "bin(5^6):   0b11\n"
     ]
    }
   ],
   "source": [
    "print('bin(5)  :  ', bin(5))\n",
    "print('bin(6)  :  ', bin(6))\n",
    "print('bin(5^6):  ', bin(5^6))"
   ]
  },
  {
   "cell_type": "markdown",
   "metadata": {},
   "source": [
    "# Convert nucleotide string to bytes string"
   ]
  },
  {
   "cell_type": "code",
   "execution_count": 18,
   "metadata": {},
   "outputs": [],
   "source": [
    "class CompressedGene:\n",
    "    def __init__(self, gene: str) -> None:\n",
    "        self._compress(gene)\n",
    "        \n",
    "    def _compress(self, gene: str) -> None:\n",
    "        self.bitstr: int = 1\n",
    "        for nucleotide in gene.upper():\n",
    "            self.bitstr <<= 2\n",
    "            if nucleotide == 'A':\n",
    "                self.bitstr |= 0b00\n",
    "            elif nucleotide == 'G':\n",
    "                self.bitstr |= 0b01\n",
    "            elif nucleotide == 'T':\n",
    "                self.bitstr |= 0b10\n",
    "            elif nucleotide == 'C':\n",
    "                self.bitstr |= 0b11\n",
    "            else:\n",
    "                raise ValueError(f'Invalid nucleotide: {nucleotide}')\n",
    "                \n",
    "    def _inflate(self) -> str:\n",
    "        gene: str = ''\n",
    "            \n",
    "        # we iterate until length - 1 to exclude sentinel\n",
    "        for i in range(0, self.bitstr.bit_length() - 1, 2):\n",
    "            \n",
    "            # shift i bits (0, 2, 4, ...) and get last two bits\n",
    "            bits: int = self.bitstr >> i & 0b11\n",
    "\n",
    "            # convert last two bits into nucleotide\n",
    "            if bits == 0b00:\n",
    "                gene += 'A'\n",
    "            elif bits == 0b01:\n",
    "                gene += 'G'\n",
    "            elif bits == 0b10:\n",
    "                gene += 'T'\n",
    "            elif bits == 0b11:\n",
    "                gene += 'C'\n",
    "            else:\n",
    "                raise ValueError(f'Invalid bits: {bits}')\n",
    "            \n",
    "        # revert the nucleotide string because we read it from right to left\n",
    "        return gene[::-1]\n",
    "    \n",
    "    def __str__(self):\n",
    "        return self._inflate()"
   ]
  },
  {
   "cell_type": "code",
   "execution_count": 19,
   "metadata": {},
   "outputs": [
    {
     "name": "stdout",
     "output_type": "stream",
     "text": [
      "629 ms ± 10.9 ms per loop (mean ± std. dev. of 7 runs, 1 loop each)\n"
     ]
    }
   ],
   "source": [
    "%timeit gene = ''.join([choice('ATGC') for _ in range(1000000)])"
   ]
  },
  {
   "cell_type": "code",
   "execution_count": 20,
   "metadata": {},
   "outputs": [],
   "source": [
    "def random_gene():\n",
    "    gene = ''\n",
    "    for _ in range(1000000):\n",
    "        gene += choice('ATGC')\n",
    "    return gene"
   ]
  },
  {
   "cell_type": "code",
   "execution_count": 21,
   "metadata": {},
   "outputs": [
    {
     "name": "stdout",
     "output_type": "stream",
     "text": [
      "685 ms ± 8.1 ms per loop (mean ± std. dev. of 7 runs, 1 loop each)\n"
     ]
    }
   ],
   "source": [
    "%timeit gene = random_gene()"
   ]
  },
  {
   "cell_type": "code",
   "execution_count": 23,
   "metadata": {},
   "outputs": [],
   "source": [
    "gene = ''.join([choice('ATGC') for _ in range(1000000)])"
   ]
  },
  {
   "cell_type": "code",
   "execution_count": 27,
   "metadata": {},
   "outputs": [
    {
     "name": "stdout",
     "output_type": "stream",
     "text": [
      "size of encoded gene (bytes): 266.692KB\n",
      "size of original gene (bytes): 1000.049KB\n"
     ]
    }
   ],
   "source": [
    "#compressed = CompressedGene(gene)\n",
    "#print('original gene: ATC')\n",
    "#print('encoded gene:', bin(compressed.bitstr))\n",
    "print(f'size of encoded gene (bytes): {sys.getsizeof(compressed.bitstr)/1000}KB')\n",
    "print(f'size of original gene (bytes): {sys.getsizeof(gene)/1000}KB')"
   ]
  },
  {
   "cell_type": "code",
   "execution_count": 28,
   "metadata": {},
   "outputs": [
    {
     "name": "stdout",
     "output_type": "stream",
     "text": [
      "bin(1)   : 0b1\n",
      "bin(1<<2): 0b100\n"
     ]
    }
   ],
   "source": [
    "print('bin(1)   :', bin(1))\n",
    "print('bin(1<<2):', bin(1<<2))"
   ]
  },
  {
   "cell_type": "code",
   "execution_count": 29,
   "metadata": {},
   "outputs": [
    {
     "name": "stdout",
     "output_type": "stream",
     "text": [
      "bin(0b1001011 >> 0): 0b1001011\n",
      "bin(0b1001011 >> 0 & 0b11): 0b11\n"
     ]
    }
   ],
   "source": [
    "print('bin(0b1001011 >> 0):', bin(0b1001011 >> 0))\n",
    "print('bin(0b1001011 >> 0 & 0b11):', bin(0b1001011 >> 0 & 0b11))"
   ]
  },
  {
   "cell_type": "code",
   "execution_count": 30,
   "metadata": {
    "scrolled": true
   },
   "outputs": [
    {
     "name": "stdout",
     "output_type": "stream",
     "text": [
      "bin(0b1001011 >> 2): 0b10010\n",
      "bin(0b1001011 >> 2 & 0b11): 0b10\n"
     ]
    }
   ],
   "source": [
    "print('bin(0b1001011 >> 2):', bin(0b1001011 >> 2))\n",
    "print('bin(0b1001011 >> 2 & 0b11):', bin(0b1001011 >> 2 & 0b11))"
   ]
  },
  {
   "cell_type": "code",
   "execution_count": 31,
   "metadata": {},
   "outputs": [
    {
     "name": "stdout",
     "output_type": "stream",
     "text": [
      "bin(0b1001011 >> 4): 0b100\n",
      "bin(0b1001011 >> 4 & 0b11): 0b0\n"
     ]
    }
   ],
   "source": [
    "print('bin(0b1001011 >> 4):', bin(0b1001011 >> 4))\n",
    "print('bin(0b1001011 >> 4 & 0b11):', bin(0b1001011 >> 4 & 0b11))"
   ]
  }
 ],
 "metadata": {
  "kernelspec": {
   "display_name": "Python 3",
   "language": "python",
   "name": "python3"
  },
  "language_info": {
   "codemirror_mode": {
    "name": "ipython",
    "version": 3
   },
   "file_extension": ".py",
   "mimetype": "text/x-python",
   "name": "python",
   "nbconvert_exporter": "python",
   "pygments_lexer": "ipython3",
   "version": "3.6.6"
  }
 },
 "nbformat": 4,
 "nbformat_minor": 2
}
