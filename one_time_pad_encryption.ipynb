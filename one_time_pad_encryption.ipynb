{
 "cells": [
  {
   "cell_type": "code",
   "execution_count": 17,
   "metadata": {},
   "outputs": [],
   "source": [
    "from secrets import token_bytes\n",
    "from typing import Tuple\n",
    "import sys"
   ]
  },
  {
   "cell_type": "code",
   "execution_count": 2,
   "metadata": {},
   "outputs": [
    {
     "data": {
      "text/plain": [
       "b'hello'"
      ]
     },
     "execution_count": 2,
     "metadata": {},
     "output_type": "execute_result"
    }
   ],
   "source": [
    "enc = 'hello'.encode()\n",
    "enc"
   ]
  },
  {
   "cell_type": "code",
   "execution_count": 3,
   "metadata": {},
   "outputs": [
    {
     "data": {
      "text/plain": [
       "'héllo'"
      ]
     },
     "execution_count": 3,
     "metadata": {},
     "output_type": "execute_result"
    }
   ],
   "source": [
    "b'h\\xc3\\xa9llo'.decode()"
   ]
  },
  {
   "cell_type": "code",
   "execution_count": 13,
   "metadata": {},
   "outputs": [
    {
     "name": "stdout",
     "output_type": "stream",
     "text": [
      "'utf-16-le' codec can't decode byte 0x00 in position 10: truncated data\n"
     ]
    }
   ],
   "source": [
    "try:\n",
    "    b'\\xff\\xfeh\\xe9\\x00l\\x00l\\x00o\\x00'.decode('utf16')\n",
    "except UnicodeDecodeError as e:\n",
    "    print(e)\n",
    "    pass"
   ]
  },
  {
   "cell_type": "code",
   "execution_count": 6,
   "metadata": {},
   "outputs": [
    {
     "data": {
      "text/plain": [
       "b'\\xff\\xfeh\\x00e\\x00l\\x00l\\x00o\\x00'"
      ]
     },
     "execution_count": 6,
     "metadata": {},
     "output_type": "execute_result"
    }
   ],
   "source": [
    "'hello'.encode('utf16')"
   ]
  },
  {
   "cell_type": "code",
   "execution_count": 16,
   "metadata": {},
   "outputs": [
    {
     "name": "stdout",
     "output_type": "stream",
     "text": [
      "hello – world\n",
      "hello - world\n"
     ]
    }
   ],
   "source": [
    "print(b'hello \\xe2\\x80\\x93 world'.decode())\n",
    "print('hello - world')"
   ]
  },
  {
   "cell_type": "code",
   "execution_count": 22,
   "metadata": {},
   "outputs": [],
   "source": [
    "def random_key(length: int) -> int:\n",
    "    tb: bytes = token_bytes(length)\n",
    "    key: int = int.from_bytes(tb, 'big')\n",
    "    return key"
   ]
  },
  {
   "cell_type": "code",
   "execution_count": 25,
   "metadata": {},
   "outputs": [
    {
     "data": {
      "text/plain": [
       "2606540199161972014298699227782372675279322622151777583458466817354970231941"
      ]
     },
     "execution_count": 25,
     "metadata": {},
     "output_type": "execute_result"
    }
   ],
   "source": [
    "random_key(32)"
   ]
  },
  {
   "cell_type": "code",
   "execution_count": 26,
   "metadata": {},
   "outputs": [],
   "source": [
    "def encrypt(original: str) -> Tuple[int, int]:\n",
    "    original_bytes: bytes = original.encode()\n",
    "    original_key: int = int.from_bytes(original_bytes, 'big')\n",
    "    dummy: int = random_key(len(original_bytes))\n",
    "    encrypted: int = original_key ^ dummy\n",
    "    return dummy, encrypted"
   ]
  },
  {
   "cell_type": "code",
   "execution_count": 32,
   "metadata": {},
   "outputs": [
    {
     "data": {
      "text/plain": [
       "(600782730403833219750910781782728231129750604461982768866738747872855320590203656390425981575,\n",
       " 3292051985408512484041928133797380677019137184813825096842094576546624921144461135932528546814)"
      ]
     },
     "execution_count": 32,
     "metadata": {},
     "output_type": "execute_result"
    }
   ],
   "source": [
    "encrypt('would you like to go swimming on sunday')"
   ]
  },
  {
   "cell_type": "code",
   "execution_count": 28,
   "metadata": {},
   "outputs": [],
   "source": [
    "def decrypt(key1: int, key2: int) -> str:\n",
    "    decrypted: int = key1 ^ key2\n",
    "    temp: bytes = decrypted.to_bytes((decrypted.bit_length() + 7) // 8, 'big')\n",
    "    return temp.decode()"
   ]
  },
  {
   "cell_type": "code",
   "execution_count": 33,
   "metadata": {},
   "outputs": [
    {
     "data": {
      "text/plain": [
       "'would you like to go swimming on sunday'"
      ]
     },
     "execution_count": 33,
     "metadata": {},
     "output_type": "execute_result"
    }
   ],
   "source": [
    "decrypt(600782730403833219750910781782728231129750604461982768866738747872855320590203656390425981575,\n",
    " 3292051985408512484041928133797380677019137184813825096842094576546624921144461135932528546814)"
   ]
  }
 ],
 "metadata": {
  "kernelspec": {
   "display_name": "Python 3",
   "language": "python",
   "name": "python3"
  },
  "language_info": {
   "codemirror_mode": {
    "name": "ipython",
    "version": 3
   },
   "file_extension": ".py",
   "mimetype": "text/x-python",
   "name": "python",
   "nbconvert_exporter": "python",
   "pygments_lexer": "ipython3",
   "version": "3.6.6"
  }
 },
 "nbformat": 4,
 "nbformat_minor": 2
}
