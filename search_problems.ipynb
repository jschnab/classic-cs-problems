{
 "cells": [
  {
   "cell_type": "code",
   "execution_count": null,
   "metadata": {},
   "outputs": [],
   "source": [
    "from enum import Enum, IntEnum\n",
    "from typing import (\n",
    "    Tuple,\n",
    "    List,\n",
    "    TypeVar,\n",
    "    Iterable,\n",
    "    Sequence,\n",
    "    Generic,\n",
    "    Callable,\n",
    "    Set,\n",
    "    Deque,\n",
    "    Dict,\n",
    "    Any,\n",
    "    Optional,\n",
    "    NamedTuple\n",
    ")\n",
    "from typing_extensions import Protocol\n",
    "import random\n",
    "import sys\n",
    "import bisect\n",
    "from heapq import heappush, heappop\n",
    "from math import sqrt"
   ]
  },
  {
   "cell_type": "markdown",
   "metadata": {},
   "source": [
    "# Storing DNA"
   ]
  },
  {
   "cell_type": "code",
   "execution_count": null,
   "metadata": {},
   "outputs": [],
   "source": [
    "Nucleotide: IntEnum = IntEnum('Nucleotide', ('A', 'G', 'T', 'C'))\n",
    "Codon = Tuple[Nucleotide, Nucleotide, Nucleotide]\n",
    "Gene = List[Codon]"
   ]
  },
  {
   "cell_type": "code",
   "execution_count": null,
   "metadata": {},
   "outputs": [],
   "source": [
    "gene_str = ''.join([random.choice('AGTC') for _ in range(10000)])"
   ]
  },
  {
   "cell_type": "code",
   "execution_count": null,
   "metadata": {},
   "outputs": [],
   "source": [
    "def str_to_gene(gene_str: str) -> Gene:\n",
    "    gene: Gene = []\n",
    "    for i in range(0, len(gene_str), 3):\n",
    "        if i + 2 >= len(gene_str):\n",
    "            return gene\n",
    "        codon: Codon = (Nucleotide[gene_str[i]], Nucleotide[gene_str[i + 1]], Nucleotide[gene_str[i + 2]])\n",
    "        gene.append(codon)\n",
    "    return gene"
   ]
  },
  {
   "cell_type": "code",
   "execution_count": null,
   "metadata": {},
   "outputs": [],
   "source": [
    "gene = str_to_gene(gene_str)"
   ]
  },
  {
   "cell_type": "code",
   "execution_count": null,
   "metadata": {},
   "outputs": [],
   "source": [
    "def linear_search(gene: Gene, codon: Codon) -> bool:\n",
    "    for i in gene:\n",
    "        if i == codon:\n",
    "            return True\n",
    "    return False"
   ]
  },
  {
   "cell_type": "code",
   "execution_count": null,
   "metadata": {},
   "outputs": [],
   "source": [
    "%timeit linear_search(gene, (Nucleotide['A'], Nucleotide['T'], Nucleotide['G']))"
   ]
  },
  {
   "cell_type": "markdown",
   "metadata": {},
   "source": [
    "# Binary search"
   ]
  },
  {
   "cell_type": "code",
   "execution_count": null,
   "metadata": {},
   "outputs": [],
   "source": [
    "def binary_search(gene: Gene, codon: Codon) -> bool:\n",
    "    low = 0\n",
    "    high = len(gene) - 1\n",
    "    while low <= high:\n",
    "        mid = (low + high) // 2\n",
    "        if codon < gene[mid]:\n",
    "            high = mid - 1\n",
    "        elif codon > gene[mid]:\n",
    "            low = mid + 1\n",
    "        else:\n",
    "            return True\n",
    "    return False"
   ]
  },
  {
   "cell_type": "code",
   "execution_count": null,
   "metadata": {},
   "outputs": [],
   "source": [
    "gene = sorted(gene)"
   ]
  },
  {
   "cell_type": "code",
   "execution_count": null,
   "metadata": {},
   "outputs": [],
   "source": [
    "%timeit binary_search(gene, (Nucleotide['A'], Nucleotide['T'], Nucleotide['G']))"
   ]
  },
  {
   "cell_type": "code",
   "execution_count": null,
   "metadata": {},
   "outputs": [],
   "source": [
    "a = [1, 3, 5, 7, 9]\n",
    "print(a)\n",
    "print(bisect.bisect(a, 2))\n",
    "print(a)\n",
    "bisect.insort(a, 4)\n",
    "print(a)"
   ]
  },
  {
   "cell_type": "markdown",
   "metadata": {},
   "source": [
    "# Generic search"
   ]
  },
  {
   "cell_type": "code",
   "execution_count": null,
   "metadata": {},
   "outputs": [],
   "source": [
    "T = TypeVar('T')\n",
    "C = TypeVar('C', bound='Comparable')"
   ]
  },
  {
   "cell_type": "code",
   "execution_count": null,
   "metadata": {},
   "outputs": [],
   "source": [
    "def linear_contains(iterable: Iterable[T], key: T) -> bool:\n",
    "    for i in iterable:\n",
    "        if i == key:\n",
    "            return True\n",
    "    return False\n",
    "\n",
    "class Comparable(Protocol):\n",
    "    def __eq__(self, other: Any) -> bool:\n",
    "        return self == other\n",
    "        \n",
    "    def __lt__(self: C, other: C) -> bool:\n",
    "        return not self > other\n",
    "        \n",
    "    def __gt__(self: C, other: C) -> bool:\n",
    "        return (not self < other) and self != other\n",
    "        \n",
    "    def __le__(self:C, other: C) -> bool:\n",
    "        return self < other or self == other\n",
    "    \n",
    "    def __ge__(self: C, other: C) -> bool:\n",
    "        return not self < other\n",
    "    \n",
    "def binary_contains(sequence: Sequence[C], key: C) -> bool:\n",
    "    low: int = 0\n",
    "    high: int = len(sequence) - 1\n",
    "    while low <= high:\n",
    "        mid: int = (low + high) // 2\n",
    "        if sequence[mid] < key:\n",
    "            low = mid + 1\n",
    "        elif sequence[mid] > key:\n",
    "            high = mid - 1\n",
    "        else:\n",
    "            return True\n",
    "    return False"
   ]
  },
  {
   "cell_type": "code",
   "execution_count": null,
   "metadata": {},
   "outputs": [],
   "source": [
    "print(linear_contains([5, 10, 15, 15, 20], 5))\n",
    "print(linear_contains([5, 10, 15, 15, 20], 3))\n",
    "print(binary_contains(['a', 'b', 'c', 'd', 'e'], 'd'))\n",
    "print(binary_contains(['a', 'b', 'c', 'd', 'e'], 'z'))"
   ]
  },
  {
   "cell_type": "markdown",
   "metadata": {},
   "source": [
    "# Maze"
   ]
  },
  {
   "cell_type": "code",
   "execution_count": null,
   "metadata": {},
   "outputs": [],
   "source": [
    "class Cell(str, Enum):\n",
    "    EMPTY = ' '\n",
    "    BLOCKED = 'X'\n",
    "    START = 'S'\n",
    "    GOAL = 'G'\n",
    "    PATH = '*'\n",
    "    \n",
    "class MazeLocation(NamedTuple):\n",
    "    row: int\n",
    "    column: int\n",
    "        \n",
    "class Maze:\n",
    "    def __init__(\n",
    "        self,\n",
    "        rows: int = 10,\n",
    "        columns: int = 10,\n",
    "        sparseness: float = 0.2,\n",
    "        start: MazeLocation = MazeLocation(0, 0),\n",
    "        goal: MazeLocation = MazeLocation(9, 9)\n",
    "    ) -> None:\n",
    "        self._rows: int = rows\n",
    "        self._columns: int = columns\n",
    "        self.start: MazeLocation = start\n",
    "        self.goal: MazeLocation = goal\n",
    "        self._grid: List[List[Cell]] = [[Cell.EMPTY] * columns for _ in range(rows)]\n",
    "        self._random_fill(rows, columns, sparseness)\n",
    "        self._grid[start.row][start.column] = Cell.START\n",
    "        self._grid[goal.row][goal.column] = Cell.GOAL\n",
    "        \n",
    "    def _random_fill(self, rows, columns, sparseness):\n",
    "        for r in range(rows):\n",
    "            for c in range(columns):\n",
    "                if random.uniform(0, 1.0) < sparseness:\n",
    "                    self._grid[r][c] = Cell.BLOCKED\n",
    "                    \n",
    "    def __str__(self):\n",
    "        output: str = ''\n",
    "        for row in self._grid:\n",
    "            output += ''.join([c for c in row]) + '\\n'\n",
    "        return output\n",
    "    \n",
    "    def reached_goal(self, location: MazeLocation) -> bool:\n",
    "        return location == self.goal\n",
    "    \n",
    "    def successors(self, loc: MazeLocation) -> List[MazeLocation]:\n",
    "        locations = []\n",
    "        if loc.row + 1 < self._rows and self._grid[loc.row + 1][loc.column] != Cell.BLOCKED:\n",
    "            locations.append(MazeLocation(loc.row + 1, loc.column))\n",
    "        if loc.row - 1 >= 0 and self._grid[loc.row - 1][loc.column] != Cell.BLOCKED:\n",
    "            locations.append(MazeLocation(loc.row - 1, loc.column))\n",
    "        if loc.column + 1 < self._columns and self._grid[loc.row][loc.column + 1] != Cell.BLOCKED:\n",
    "            locations.append(MazeLocation(loc.row, loc.column + 1))\n",
    "        if loc.column - 1 >= 0 and self._grid[loc.row][loc.column - 1] != Cell.BLOCKED:\n",
    "            locations.append(MazeLocation(loc.row, loc.column - 1))\n",
    "        return locations\n",
    "    \n",
    "    def mark(self, path: List[MazeLocation]) -> None:\n",
    "        for loc in path:\n",
    "            self._grid[loc.row][loc.column] = Cell.PATH\n",
    "        self._grid[self.start.row][self.start.column] = Cell.START\n",
    "        self._grid[self.goal.row][self.goal.column] = Cell.GOAL\n",
    "        \n",
    "    def clear(self, path: List[MazeLocation]):\n",
    "        for loc in path:\n",
    "            self._grid[loc.row][loc.column] = Cell.EMPTY\n",
    "        self._grid[self.start.row][self.start.column] = Cell.START\n",
    "        self._grid[self.goal.row][self.goal.column] = Cell.GOAL"
   ]
  },
  {
   "cell_type": "code",
   "execution_count": null,
   "metadata": {},
   "outputs": [],
   "source": [
    "maze = Maze()"
   ]
  },
  {
   "cell_type": "code",
   "execution_count": null,
   "metadata": {},
   "outputs": [],
   "source": [
    "print(maze)"
   ]
  },
  {
   "cell_type": "code",
   "execution_count": null,
   "metadata": {},
   "outputs": [],
   "source": [
    "class Stack(Generic[T]):\n",
    "    def __init__(self) -> None:\n",
    "        self._container: List[T] = []\n",
    "    \n",
    "    @property\n",
    "    def empty(self) -> bool:\n",
    "        return not self._container\n",
    "    \n",
    "    def push(self, item: T) -> None:\n",
    "        self._container.append(item)\n",
    "        \n",
    "    def pop(self) -> T:\n",
    "        return self._container.pop()\n",
    "    \n",
    "    def __repr__(self) -> str:\n",
    "        return repr(self._container)"
   ]
  },
  {
   "cell_type": "code",
   "execution_count": null,
   "metadata": {},
   "outputs": [],
   "source": [
    "class Node(Generic[T]):\n",
    "    def __init__(\n",
    "        self,\n",
    "        state: T,\n",
    "        parent, # Optional[Node]\n",
    "        cost: float = 0.0,\n",
    "        heuristic: float = 0.0\n",
    "    ) -> None:\n",
    "        self.state = state\n",
    "        self.parent = parent\n",
    "        self.cost = cost\n",
    "        self.heuristic = heuristic\n",
    "        \n",
    "    def __lt__(self, other) -> bool:\n",
    "        return (self.cost + self.heuristic) < (other.cost + other.heuristic)"
   ]
  },
  {
   "cell_type": "code",
   "execution_count": null,
   "metadata": {},
   "outputs": [],
   "source": [
    "def dfs(\n",
    "    initial: T,\n",
    "    goal_test: Callable[[T], bool],\n",
    "    successors: Callable[[T], List[T]]\n",
    ") -> Optional[Node[T]]:\n",
    "    \n",
    "    # where we have yet to go\n",
    "    frontier: Stack[Node[T]] = Stack()\n",
    "    frontier.push(Node(initial, None))\n",
    "    \n",
    "    # where we have been\n",
    "    explored: Set[T] = {initial}\n",
    "\n",
    "        \n",
    "    # keep going while there is more to explore\n",
    "    while not frontier.empty:\n",
    "        current_node: Node[T] = frontier.pop()\n",
    "        current_state: T = current_node.state\n",
    "            \n",
    "        # if we find the goal we are done\n",
    "        if goal_test(current_state):\n",
    "            return current_node\n",
    "        \n",
    "        # check were we can go and have not explored\n",
    "        for child in successors(current_state):\n",
    "            if child in explored:\n",
    "                continue\n",
    "            explored.add(child)\n",
    "            frontier.push(Node(child, current_node))\n",
    "    \n",
    "    return"
   ]
  },
  {
   "cell_type": "code",
   "execution_count": null,
   "metadata": {},
   "outputs": [],
   "source": [
    "class Queue(Generic[T]):\n",
    "    def __init__(self) -> None:\n",
    "        self._container: Deque[T] = Deque()\n",
    "            \n",
    "    @property\n",
    "    def empty(self) -> bool:\n",
    "        return not self._container\n",
    "    \n",
    "    def push(self, item: T) -> None:\n",
    "        self._container.append(item)\n",
    "        \n",
    "    def pop(self) -> T:\n",
    "        return self._container.popleft()\n",
    "    \n",
    "    def __repr__(self) -> str:\n",
    "        return repr(self._container)"
   ]
  },
  {
   "cell_type": "code",
   "execution_count": null,
   "metadata": {},
   "outputs": [],
   "source": [
    "def bfs(\n",
    "    initial: T,\n",
    "    goal_test: Callable[[T], bool],\n",
    "    successors: Callable[[T], List[T]]\n",
    ") -> Optional[Node[T]]:\n",
    "    \n",
    "    # where we have yet to go\n",
    "    frontier: Queue[Node[T]] = Queue()\n",
    "    frontier.push(Node(initial, None))\n",
    "    \n",
    "    # where we have been\n",
    "    explored: Set[T] = {initial}\n",
    "        \n",
    "    count = 0\n",
    "        \n",
    "    # keep going while there is more to explore\n",
    "    while not frontier.empty:\n",
    "        count += 1\n",
    "        current_node: Node[T] = frontier.pop()\n",
    "        current_state: T = current_node.state\n",
    "            \n",
    "        # if we find the goal we are done\n",
    "        if goal_test(current_state):\n",
    "            return current_node, count\n",
    "        \n",
    "        # check were we can go and have not explored\n",
    "        for child in successors(current_state):\n",
    "            if child in explored:\n",
    "                continue\n",
    "            explored.add(child)\n",
    "            frontier.push(Node(child, current_node))\n",
    "    \n",
    "    return None, None"
   ]
  },
  {
   "cell_type": "code",
   "execution_count": null,
   "metadata": {},
   "outputs": [],
   "source": [
    "def len_path(node):\n",
    "    counter = 1\n",
    "    path = [node.state]\n",
    "    while node.parent is not None:\n",
    "        counter += 1\n",
    "        node = node.parent\n",
    "    return counter"
   ]
  },
  {
   "cell_type": "code",
   "execution_count": null,
   "metadata": {},
   "outputs": [],
   "source": [
    "def node_to_path(node: Node[T]) -> List[T]:\n",
    "\n",
    "    path: List[T] = [node.state]\n",
    "    \n",
    "    # work backwards from end to head of linked list\n",
    "    while node.parent is not None:\n",
    "        node = node.parent\n",
    "        path.append(node.state)\n",
    "        \n",
    "    path.reverse()\n",
    "    return path"
   ]
  },
  {
   "cell_type": "code",
   "execution_count": null,
   "metadata": {},
   "outputs": [],
   "source": [
    "m = Maze(rows=25, columns=100, goal=MazeLocation(24, 99), sparseness=0.15)\n",
    "solution, count = bfs(m.start, m.reached_goal, m.successors)\n",
    "if solution is None:\n",
    "    print('No solution found using depth-first search')\n",
    "else:\n",
    "    path = node_to_path(solution)\n",
    "    m.mark(path)\n",
    "    print(m)\n",
    "    m.clear(path)"
   ]
  },
  {
   "cell_type": "code",
   "execution_count": null,
   "metadata": {},
   "outputs": [],
   "source": [
    "class PriorityQueue(Generic[T]):\n",
    "    def __init__(self) -> None:\n",
    "        self._container: List[T] = []\n",
    "        \n",
    "    @property\n",
    "    def empty(self) -> bool:\n",
    "        return not self._container\n",
    "    \n",
    "    def push(self, item: T) -> None:\n",
    "        heappush(self._container, item)\n",
    "        \n",
    "    def pop(self) -> T:\n",
    "        return heappop(self._container)\n",
    "        \n",
    "    def __repr__(self) -> str:\n",
    "        return repr(self._container)"
   ]
  },
  {
   "cell_type": "code",
   "execution_count": null,
   "metadata": {},
   "outputs": [],
   "source": [
    "def euclidean_distance(goal: MazeLocation) -> Callable[[MazeLocation], float]:\n",
    "    def distance(loc: MazeLocation) -> float:\n",
    "        xdist: int = loc.column - goal.column\n",
    "        ydist: int = loc.row - goal.row\n",
    "        return sqrt((xdist ** 2) + (ydist ** 2))\n",
    "    return distance\n",
    "\n",
    "def manhattan_distance(goal: MazeLocation) -> Callable[[MazeLocation], float]:\n",
    "    def distance(loc: MazeLocation) -> float:\n",
    "        xdist: int = abs(loc.column - goal.column)\n",
    "        ydist: int = abs(loc.row - goal.row)\n",
    "        return xdist + ydist\n",
    "    return distance"
   ]
  },
  {
   "cell_type": "code",
   "execution_count": null,
   "metadata": {},
   "outputs": [],
   "source": [
    "def astar(\n",
    "    initial: T,\n",
    "    goal_test: Callable[[T], bool],\n",
    "    successors: Callable[[T], List[T]],\n",
    "    heuristic: Callable[[T], float]\n",
    "):\n",
    "    frontier: PriorityQueue[Node[T]] = PriorityQueue()\n",
    "    frontier.push(Node(initial, None, 0.0, heuristic(initial)))\n",
    "    explored: Dict[T, float] = {initial: 0.0}\n",
    "        \n",
    "    count = 0\n",
    "    \n",
    "    while not frontier.empty:\n",
    "        count += 1\n",
    "        current_node: Node[T] = frontier.pop()\n",
    "        current_state: T = current_node.state\n",
    "        \n",
    "        if goal_test(current_state):\n",
    "            return current_node, count\n",
    "        \n",
    "        for child in successors(current_state):\n",
    "            new_cost: float = current_node.cost + 1\n",
    "            if child not in explored or explored[child] > new_cost:\n",
    "                explored[child] = new_cost\n",
    "                frontier.push(Node(child, current_node, new_cost, heuristic(child)))\n",
    "                \n",
    "    return None, None"
   ]
  },
  {
   "cell_type": "code",
   "execution_count": null,
   "metadata": {},
   "outputs": [],
   "source": [
    "steps_dfs = []\n",
    "steps_bfs = []\n",
    "counts_bfs = []\n",
    "steps_astar = []\n",
    "counts_astar = []\n",
    "\n",
    "for i in range(100):\n",
    "    m = Maze(rows=25, columns=100, goal=MazeLocation(24, 99), sparseness=0.15)\n",
    "\n",
    "    solution_dfs = dfs(m.start, m.reached_goal, m.successors)\n",
    "    if solution_dfs is not None:\n",
    "        steps_dfs.append(len_path(solution_dfs))\n",
    "        \n",
    "    solution_bfs, count_bfs = bfs(m.start, m.reached_goal, m.successors)\n",
    "    if solution_bfs is not None:\n",
    "        steps_bfs.append(len_path(solution_bfs))\n",
    "        counts_bfs.append(count_bfs)\n",
    "    \n",
    "    distance: Callable[[MazeLocation], float] = manhattan_distance(m.goal)\n",
    "    solution_astar, count_astar = astar(m.start, m.reached_goal, m.successors, distance)\n",
    "    if solution_astar is not None:\n",
    "        steps_astar.append(len_path(solution_astar))\n",
    "        counts_astar.append(count_astar)\n",
    "        \n",
    "mean_dfs = sum(steps_dfs) / len(steps_dfs)\n",
    "mean_bfs = sum(steps_bfs) / len(steps_bfs)\n",
    "mean_astar = sum(steps_astar) / len(steps_astar)\n",
    "\n",
    "print('Mean steps DFS: ', mean_dfs)\n",
    "print()\n",
    "print('Mean steps BFS: ', mean_bfs)\n",
    "print('Mean count BFS: ', sum(counts_bfs) / len(counts_bfs))\n",
    "print()\n",
    "print('Mean steps A*: ', mean_astar)\n",
    "print('Mean count A*: ', sum(counts_astar) / len(counts_astar))"
   ]
  },
  {
   "cell_type": "code",
   "execution_count": null,
   "metadata": {},
   "outputs": [],
   "source": [
    "m = Maze(rows=25, columns=100, goal=MazeLocation(24, 99), sparseness=0.15)\n",
    "distance: Callable[[MazeLocation], float] = manhattan_distance(m.goal)\n",
    "solution3, count = astar(m.start, m.reached_goal, m.successors, distance)\n",
    "if solution3 is None:\n",
    "    print(\"No solution found using A*.\")\n",
    "else:\n",
    "    path3: List[MazeLocation] = node_to_path(solution3)\n",
    "    m.mark(path3)\n",
    "    print(m)\n",
    "    m.clear(path)"
   ]
  },
  {
   "cell_type": "markdown",
   "metadata": {},
   "source": [
    "# Missionaries and cannibals"
   ]
  },
  {
   "cell_type": "code",
   "execution_count": null,
   "metadata": {},
   "outputs": [],
   "source": [
    "MAX_NUM = 3\n",
    "\n",
    "class MCState:\n",
    "    def __init__(\n",
    "        self,\n",
    "        missionaries: int,\n",
    "        cannibals: int,\n",
    "        boat: bool\n",
    "    ) -> None:\n",
    "        self.wm: int = missionaries  # missionaries on the west bank\n",
    "        self.wc: int = cannibals  # cannibals on the west bank\n",
    "        self.em: int = MAX_NUM - self.wm  # missionaries on the east bank\n",
    "        self.ec: int = MAX_NUM - self.wc  # cannibals on the east bank\n",
    "        self.boat: bool = boat\n",
    "            \n",
    "    def __str__(self):\n",
    "        return (\n",
    "            f'On the west bank there are {self.wm} missionaries and {self.wc} cannibals.\\n'\n",
    "            f'On the east bank there are {self.em} missionaries and {self.ec} cannibals.\\n'\n",
    "            f'The boat is on the {\"west\" if self.boat else \"east\"} bank.\\n'\n",
    "        )\n",
    "              \n",
    "    def goal_test(self):\n",
    "        return self.is_legal and self.em == MAX_NUM and self.ec == MAX_NUM\n",
    "              \n",
    "    @property\n",
    "    def is_legal(self):\n",
    "        if self.wm > 0 and self.wm < self.wc:\n",
    "            return False\n",
    "        if self.em > 0 and self.em < self.ec:\n",
    "            return False\n",
    "        return True\n",
    "              \n",
    "    def successors(self) -> List[MCState]:\n",
    "        s: List[MCState] = []\n",
    "        # boat on the west bank\n",
    "        if self.boat:\n",
    "            if self.wm > 1:\n",
    "                s.append(MCState(self.wm - 2, self.wc, not self.boat))\n",
    "            if self.wm > 0:\n",
    "                s.append(MCState(self.wm - 1, self.wc, not self.boat))\n",
    "            if self.wc > 1:\n",
    "                s.append(MCState(self.wm, self.wc - 2, not self.boat))\n",
    "            if self.wc > 0:\n",
    "                s.append(MCState(self.wm, self.wc - 1, not self.boat))\n",
    "            if (self.wc > 0) and (self.wm > 0):\n",
    "                s.append(MCState(self.wm - 1, self.wc - 1, not self.boat))\n",
    "        else:\n",
    "            if self.em > 1:\n",
    "                s.append(MCState(self.wm + 2, self.wc, not self.boat))\n",
    "            if self.em > 0:\n",
    "                s.append(MCState(self.wm + 1, self.wc, not self.boat))\n",
    "            if self.ec > 1:\n",
    "                s.append(MCState(self.wm, self.wc + 2, not self.boat))\n",
    "            if self.ec > 0:\n",
    "                s.append(MCState(self.wm, self.wc + 1, not self.boat))\n",
    "            if (self.ec > 0) and (self.em > 0):\n",
    "                s.append(MCState(self.wm + 1, self.wc + 1, not self.boat))\n",
    "        return [x for x in s if x.is_legal]"
   ]
  },
  {
   "cell_type": "code",
   "execution_count": null,
   "metadata": {},
   "outputs": [],
   "source": [
    "def display_solution(path: List[MCState]):\n",
    "    if len(path) == 0:\n",
    "        return\n",
    "    old: MCState = path[0]\n",
    "    print(old)\n",
    "    for current in path[1:]:\n",
    "        if current.boat:\n",
    "            print(f'{old.em - current.em} missionaries and {old.ec - current.ec} cannibals moved to west bank.')\n",
    "        else:\n",
    "            print(f'{old.wm - current.wm} missionaries and {old.wc - current.wc} cannibals move to east bank.')\n",
    "        print(current)\n",
    "        old = current"
   ]
  },
  {
   "cell_type": "code",
   "execution_count": null,
   "metadata": {},
   "outputs": [],
   "source": [
    "start: MCState = MCState(MAX_NUM, MAX_NUM, True)\n",
    "solution, count = bfs(start, MCState.goal_test, MCState.successors)\n",
    "if solution is None:\n",
    "    print('No solution found.')\n",
    "else:\n",
    "    path: List[MCState] = node_to_path(solution)\n",
    "    display_solution(path)"
   ]
  }
 ],
 "metadata": {
  "kernelspec": {
   "display_name": "Python 3",
   "language": "python",
   "name": "python3"
  },
  "language_info": {
   "codemirror_mode": {
    "name": "ipython",
    "version": 3
   },
   "file_extension": ".py",
   "mimetype": "text/x-python",
   "name": "python",
   "nbconvert_exporter": "python",
   "pygments_lexer": "ipython3",
   "version": "3.7.3"
  }
 },
 "nbformat": 4,
 "nbformat_minor": 2
}
