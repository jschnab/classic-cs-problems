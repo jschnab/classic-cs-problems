{
 "cells": [
  {
   "cell_type": "markdown",
   "metadata": {},
   "source": [
    "# Calculate pi with the Leibniz formula"
   ]
  },
  {
   "cell_type": "markdown",
   "metadata": {},
   "source": [
    "The Leibniz formula is \n",
    "$$\\pi\\:=\\:\\frac{4}{1}\\:-\\:\\frac{4}{3}\\:+\\:\\frac{4}{5}\\:-\\:\\frac{4}{7}\\:+\\:\\frac{4}{9}\\:...$$"
   ]
  },
  {
   "cell_type": "code",
   "execution_count": 3,
   "metadata": {},
   "outputs": [],
   "source": [
    "def calculate_pi(n_terms: int) -> float:\n",
    "    numerator = 4.0\n",
    "    denominator = 1.0\n",
    "    operator = 1.0\n",
    "    result = 0\n",
    "    for _ in range(n_terms):\n",
    "        result += operator * numerator / denominator\n",
    "        denominator += 2\n",
    "        operator *= -1\n",
    "    return result"
   ]
  },
  {
   "cell_type": "code",
   "execution_count": 10,
   "metadata": {},
   "outputs": [
    {
     "name": "stdout",
     "output_type": "stream",
     "text": [
      "116 ms ± 925 µs per loop (mean ± std. dev. of 7 runs, 10 loops each)\n"
     ]
    }
   ],
   "source": [
    "%timeit calculate_pi(1000000)"
   ]
  }
 ],
 "metadata": {
  "kernelspec": {
   "display_name": "Python 3",
   "language": "python",
   "name": "python3"
  },
  "language_info": {
   "codemirror_mode": {
    "name": "ipython",
    "version": 3
   },
   "file_extension": ".py",
   "mimetype": "text/x-python",
   "name": "python",
   "nbconvert_exporter": "python",
   "pygments_lexer": "ipython3",
   "version": "3.6.6"
  }
 },
 "nbformat": 4,
 "nbformat_minor": 2
}
