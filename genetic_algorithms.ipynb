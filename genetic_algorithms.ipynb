{
 "cells": [
  {
   "cell_type": "markdown",
   "metadata": {},
   "source": [
    "# Genetic algorithms\n",
    "We define an abstract class *Chromosome*  which has four essential features:\n",
    "* determine its own fitness\n",
    "* create an instance with randomly selected genes (fill the first generation)\n",
    "* implement cross-over (mix itself with another chromosome)\n",
    "* mutate"
   ]
  },
  {
   "cell_type": "code",
   "execution_count": 1,
   "metadata": {},
   "outputs": [],
   "source": [
    "exec('from __future__ import annotations')\n",
    "from abc import ABC, abstractmethod\n",
    "from copy import deepcopy\n",
    "from enum import Enum\n",
    "from heapq import nlargest\n",
    "from random import choices, random, randrange, sample, shuffle\n",
    "from statistics import mean\n",
    "from typing import TypeVar, Tuple, Type, Generic, List, Callable"
   ]
  },
  {
   "cell_type": "code",
   "execution_count": 2,
   "metadata": {},
   "outputs": [],
   "source": [
    "T = TypeVar('T', bound='Chromosome')  # for returning self\n",
    "\n",
    "class Chromosome(ABC):\n",
    "    \"\"\"\n",
    "    Base class for all chromosomes, all methods must be overridden.\n",
    "    \"\"\"\n",
    "    @abstractmethod\n",
    "    def fitness(self) -> float:\n",
    "        ...\n",
    "        \n",
    "    @classmethod\n",
    "    @abstractmethod\n",
    "    def random_instance(cls: Type[T]) -> T:\n",
    "        ...\n",
    "        \n",
    "    @abstractmethod\n",
    "    def crossover(self: T, other: T) -> Tuple[T, T]:\n",
    "        ...\n",
    "        \n",
    "    @abstractmethod\n",
    "    def mutate(self) -> None:\n",
    "        ..."
   ]
  },
  {
   "cell_type": "markdown",
   "metadata": {},
   "source": [
    "Steps of a genetic algorithm:\n",
    "1. create an initial population of random chromosomes for the first generation\n",
    "2. **measure** the fitness of each chromosome, if any exceeds the threshold, return\n",
    "3. **select** individuals to reproduce, with a higher probability of selecting those with higher fitness\n",
    "4. **crossover** some of the selected chromosomes to create the next generation\n",
    "5. **mutate** some of those chromosomes\n",
    "6. return to step 2 unless the maximum number of generations has been reached, in this case return the chromosome with the highest fitness"
   ]
  },
  {
   "cell_type": "code",
   "execution_count": 8,
   "metadata": {},
   "outputs": [],
   "source": [
    "C = TypeVar('C', bound=Chromosome)  # type of the chromosome\n",
    "\n",
    "class GeneticAlgorithm(Generic[C]):\n",
    "    SelectionType = Enum('SelectionType', 'ROULETTE TOURNAMENT')\n",
    "    \n",
    "    def __init__(\n",
    "        self,\n",
    "        initial_population: List[C],\n",
    "        threshold: float,\n",
    "        max_generations: int = 100,\n",
    "        mutation_chance: float = 0.01,\n",
    "        crossover_chance: float = 0.7,\n",
    "        selection_type: SelectionType = SelectionType.TOURNAMENT\n",
    "    ) -> None:\n",
    "        self._population: List[C] = initial_population\n",
    "        self._threshold: float = threshold\n",
    "        self._max_generations: int = max_generations\n",
    "        self._mutation_chance: float = mutation_chance\n",
    "        self._crossover_chance: float = crossover_chance\n",
    "        self._selection_type: GeneticAlgorithm.SelectionType = selection_type\n",
    "            \n",
    "        # type refers to the specific subclass of Chromosome that we are finding the fitness of\n",
    "        self._fitness_key: Callable = type(self._population[0]).fitness\n",
    "            \n",
    "    def _pick_roulette(self, wheel: List[float]) -> Tuple[C, C]:\n",
    "        \"\"\"\n",
    "        Use the probability distribution wheel to pick 2 parents.\n",
    "        This will not work with negative fitness results.\n",
    "        \"\"\"\n",
    "        return tuple(choices(self._population, weights=wheel, k=2))\n",
    "    \n",
    "    def _pick_tournament(self, num_participants: int) -> Tuple[C, C]:\n",
    "        \"\"\"\n",
    "        Choose number of participants at random and take the best 2.\n",
    "        Optimal number of participants is determined by trial and error.\n",
    "        Higher number of participants leads to less diversity in population,\n",
    "        because chromosomes with poor fitness are more likely to be eliminated\n",
    "        in matchups.\n",
    "        \"\"\"\n",
    "        participants: List[C] = choices(self._population, k=num_participants)\n",
    "        return tuple(nlargest(2, participants, key=self._fitness_key))\n",
    "    \n",
    "    def _reproduce_and_replace(self) -> None:\n",
    "        new_population: List[C] = []\n",
    "\n",
    "        # keep going until we've filled the new generation\n",
    "        while len(new_population) < len(self._population):\n",
    "            # pick 2 parents\n",
    "            if self._selection_type == GeneticAlgorithm.SelectionType.ROULETTE:\n",
    "                parents: Tuple[C, C] = self._pick_roulette([x.fitness() for x in self._population])\n",
    "            else:\n",
    "                \n",
    "                parents = self._pick_tournament(len(self._population) // 2)\n",
    "\n",
    "            # potentially crossover the 2 parents\n",
    "            if random() < self._crossover_chance:\n",
    "                new_population.extend(parents[0].crossover(parents[1]))\n",
    "            else:\n",
    "                new_population.extend(parents)\n",
    "            \n",
    "        # if we had an odd number we'll have one extra so we remove it\n",
    "        if len(new_population) > len(self._population):\n",
    "            new_population.pop()\n",
    "        \n",
    "        self._population = new_population\n",
    "        \n",
    "    def _mutate(self) -> None:\n",
    "        for individual in self._population:\n",
    "            if random() < self._mutation_chance:\n",
    "                individual.mutate()\n",
    "                \n",
    "    def run(self) -> C:\n",
    "        best: C = max(self._population, key=self._fitness_key)\n",
    "        for generation in range(self._max_generations):\n",
    "            if best.fitness() >= self._threshold:\n",
    "                return best\n",
    "            print(f'Generation {generation} Best {best.fitness()} '\n",
    "                  f'Average {mean(map(self._fitness_key, self._population))}')\n",
    "            self._reproduce_and_replace()\n",
    "            self._mutate()\n",
    "            highest: C = max(self._population, key=self._fitness_key)\n",
    "            if highest.fitness() > best.fitness():\n",
    "                best = highest\n",
    "        return best"
   ]
  },
  {
   "cell_type": "markdown",
   "metadata": {},
   "source": [
    "Genetic algorithm selection methods include **roulette wheel** and **tournament selection**. Roulette wheel gives every chromosome a chance of being picked, proportionate to its fitness. In tournament selection, a certain number of chromosomes are challenged against one another and the one with the best fitness is selected."
   ]
  },
  {
   "cell_type": "code",
   "execution_count": 4,
   "metadata": {},
   "outputs": [],
   "source": [
    "class SimpleEquation(Chromosome):\n",
    "    def __init__(self, x: int, y: int) -> None:\n",
    "        self.x = x\n",
    "        self.y = y\n",
    "        \n",
    "    def fitness(self) -> float:\n",
    "        return 6 * self.x - self.x ** 2 + 4 * self.y - self.y ** 2\n",
    "    \n",
    "    @classmethod\n",
    "    def random_instance(cls) -> C:\n",
    "        return cls(randrange(100), randrange(100))\n",
    "    \n",
    "    def crossover(self, other) -> Tuple[C, C]:\n",
    "        child1: C = deepcopy(self)\n",
    "        child2: C = deepcopy(other)\n",
    "        child1.y = other.y\n",
    "        child2.y = self.y\n",
    "        return child1, child2\n",
    "    \n",
    "    def mutate(self) -> None:\n",
    "        if random() > 0.5:\n",
    "            if random() > 0.5:\n",
    "                self.x += 1\n",
    "            else:\n",
    "                self.x -= 1\n",
    "        else:\n",
    "            if random() > 0.5:\n",
    "                self.y += 1\n",
    "            else:\n",
    "                self.y -= 1\n",
    "                \n",
    "    def __str__(self) -> str:\n",
    "        return f'X: {self.x} Y: {self.y} Fitness: {self.fitness()}'"
   ]
  },
  {
   "cell_type": "code",
   "execution_count": 5,
   "metadata": {},
   "outputs": [
    {
     "name": "stdout",
     "output_type": "stream",
     "text": [
      "Generation 0 Best -428 Average -6558.6\n",
      "X: 3 Y: 2 Fitness: 13\n"
     ]
    }
   ],
   "source": [
    "initial_population: List[SimpleEquation] = [SimpleEquation.random_instance() for _ in range(20)]\n",
    "ga: GeneticAlgorithm[SimpleEquation] = GeneticAlgorithm(\n",
    "    initial_population=initial_population,\n",
    "    threshold=13,\n",
    "    max_generations=100,\n",
    "    mutation_chance=0.1,\n",
    "    crossover_chance=0.7)\n",
    "result: SimpleEquation = ga.run()\n",
    "print(result)"
   ]
  },
  {
   "cell_type": "markdown",
   "metadata": {},
   "source": [
    "# Revisiting SEND MORE MONEY"
   ]
  },
  {
   "cell_type": "code",
   "execution_count": 14,
   "metadata": {},
   "outputs": [],
   "source": [
    "class SendMoreMoney2(Chromosome):\n",
    "    def __init__(self, letters: List[str]) -> None:\n",
    "        self.letters: List[str] = letters\n",
    "            \n",
    "    def fitness(self) -> float:\n",
    "        s: int = self.letters.index('S')\n",
    "        e: int = self.letters.index('E')\n",
    "        n: int = self.letters.index('N')\n",
    "        d: int = self.letters.index('D')\n",
    "        m: int = self.letters.index('M')\n",
    "        o: int = self.letters.index('O')\n",
    "        r: int = self.letters.index('R')\n",
    "        y: int = self.letters.index('Y')\n",
    "        send: int = s * 1000 + e * 100 + n * 10 + d\n",
    "        more: int = m * 1000 + o * 100 + r * 10 + e\n",
    "        money: int = m* 10000 + o * 1000 + n * 100 + e * 10 + y\n",
    "        difference: int = abs(money - send - more)\n",
    "        return 1 / (difference + 1)\n",
    "    \n",
    "    @classmethod\n",
    "    def random_instance(cls) -> C:\n",
    "        letters = ['S', 'E', 'N', 'D', 'M', 'O', 'R', 'Y', ' ', ' ']\n",
    "        shuffle(letters)\n",
    "        return cls(letters)\n",
    "    \n",
    "    def crossover(self, other) -> Tuple[C, C]:\n",
    "        child1: C = deepcopy(self)\n",
    "        child2: C = deepcopy(other)\n",
    "        idx1, idx2 = sample(range(len(self.letters)), k=2)\n",
    "        l1, l2 = child1.letters[idx1], child2.letters[idx2]\n",
    "        child1.letters[child1.letters.index(l2)], child1.letters[idx2] = child1.letters[idx2], l2\n",
    "        child2.letters[child2.letters.index(l1)], child2.letters[idx1] = child2.letters[idx1], l1\n",
    "        return child1, child2\n",
    "    \n",
    "    def mutate(self) -> None:\n",
    "        \"\"\"Swap two letter locations.\"\"\"\n",
    "        idx1, idx2 = sample(range(len(self.letters)), k=2)\n",
    "        self.letters[idx1], self.letters[idx2] = self.letters[idx2], self.letters[idx1]\n",
    "        \n",
    "    def __str__(self) -> str:\n",
    "        s: int = self.letters.index('S')\n",
    "        e: int = self.letters.index('E')\n",
    "        n: int = self.letters.index('N')\n",
    "        d: int = self.letters.index('D')\n",
    "        m: int = self.letters.index('M')\n",
    "        o: int = self.letters.index('O')\n",
    "        r: int = self.letters.index('R')\n",
    "        y: int = self.letters.index('Y')\n",
    "        send: int = s * 1000 + e * 100 + n * 10 + d\n",
    "        more: int = m * 1000 + o * 100 + r * 10 + e\n",
    "        money: int = m* 10000 + o * 1000 + n * 100 + e * 10 + y\n",
    "        difference: int = abs(money - send - more)\n",
    "        return f'{send} + {more} = {money} Difference: {difference}'"
   ]
  },
  {
   "cell_type": "code",
   "execution_count": 17,
   "metadata": {
    "scrolled": true
   },
   "outputs": [
    {
     "name": "stdout",
     "output_type": "stream",
     "text": [
      "Generation 0 Best 0.009433962264150943 Average 0.0001411821764919521\n",
      "Generation 1 Best 0.16666666666666666 Average 0.003452672069367096\n",
      "6419 + 724 = 7143 Difference: 0\n"
     ]
    }
   ],
   "source": [
    "initial_population: List[SendMoreMoney2] = [SendMoreMoney2.random_instance() for _ in range(1000)]\n",
    "ga: GeneticAlgorithm[SendMoreMoney2] = GeneticAlgorithm(\n",
    "    initial_population=initial_population,\n",
    "    threshold=1.0,\n",
    "    max_generations=1000,\n",
    "    mutation_chance=0.2,\n",
    "    crossover_chance=0.7,\n",
    "    selection_type=GeneticAlgorithm.SelectionType.ROULETTE)\n",
    "result: SendMoreMoney2 = ga.run()\n",
    "print(result)"
   ]
  },
  {
   "cell_type": "code",
   "execution_count": 23,
   "metadata": {},
   "outputs": [
    {
     "name": "stdout",
     "output_type": "stream",
     "text": [
      "['M', 'O', 'Y', 'D', ' ', 'R', 'E', 'N', 'S', ' ']\n",
      "['D', 'E', 'S', 'Y', 'N', ' ', 'R', 'M', ' ', 'O']\n",
      "\n",
      "['M', 'O', 'D', 'Y', ' ', 'R', 'E', 'N', 'S', ' ']\n",
      "['D', 'E', 'S', 'Y', 'M', ' ', 'R', 'N', ' ', 'O']\n"
     ]
    }
   ],
   "source": [
    "print(initial_population[0].letters)\n",
    "print(initial_population[1].letters)\n",
    "a, b = initial_population[0].crossover(initial_population[1])\n",
    "print()\n",
    "print(a.letters)\n",
    "print(b.letters)"
   ]
  }
 ],
 "metadata": {
  "kernelspec": {
   "display_name": "Python 3",
   "language": "python",
   "name": "python3"
  },
  "language_info": {
   "codemirror_mode": {
    "name": "ipython",
    "version": 3
   },
   "file_extension": ".py",
   "mimetype": "text/x-python",
   "name": "python",
   "nbconvert_exporter": "python",
   "pygments_lexer": "ipython3",
   "version": "3.7.3"
  }
 },
 "nbformat": 4,
 "nbformat_minor": 2
}
