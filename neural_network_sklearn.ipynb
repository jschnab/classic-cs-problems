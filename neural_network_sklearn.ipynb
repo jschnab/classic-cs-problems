{
 "cells": [
  {
   "cell_type": "code",
   "execution_count": 81,
   "metadata": {},
   "outputs": [],
   "source": [
    "import csv\n",
    "\n",
    "from random import shuffle\n",
    "\n",
    "import matplotlib.pyplot as plt\n",
    "\n",
    "from sklearn import datasets\n",
    "from sklearn.neural_network import MLPClassifier\n",
    "from sklearn.preprocessing import MinMaxScaler"
   ]
  },
  {
   "cell_type": "markdown",
   "metadata": {},
   "source": [
    "# Iris dataset"
   ]
  },
  {
   "cell_type": "code",
   "execution_count": 9,
   "metadata": {},
   "outputs": [],
   "source": [
    "with open('iris_dataset.csv') as f:\n",
    "    data = list(csv.reader(f))"
   ]
  },
  {
   "cell_type": "code",
   "execution_count": 23,
   "metadata": {},
   "outputs": [],
   "source": [
    "mapping = {'Iris-setosa': 0, 'Iris-versicolor': 1, 'Iris-virginica': 2}"
   ]
  },
  {
   "cell_type": "code",
   "execution_count": 87,
   "metadata": {
    "scrolled": true
   },
   "outputs": [
    {
     "name": "stdout",
     "output_type": "stream",
     "text": [
      "Accuracy: 0.9\n"
     ]
    },
    {
     "data": {
      "image/png": "[encoded data removed]",
      "text/plain": [
       "<Figure size 432x288 with 1 Axes>"
      ]
     },
     "metadata": {
      "needs_background": "light"
     },
     "output_type": "display_data"
    }
   ],
   "source": [
    "# shuffle data, assign training and testing samples and feature-scale them\n",
    "shuffle(data)\n",
    "X_train = [list(map(float, row[:-1])) for row in data[:140]]\n",
    "X_test = [list(map(float, row[:-1])) for row in data[140:]]\n",
    "X_train_norm = MinMaxScaler().fit_transform(X_train)\n",
    "X_test_norm = MinMaxScaler().fit_transform(X_test)\n",
    "y_train = [mapping[row[-1]] for row in data[:140]]\n",
    "y_test = [mapping[row[-1]] for row in data[140:]]\n",
    "\n",
    "# train and predict, show accuracy\n",
    "mlp = MLPClassifier(learning_rate_init=0.3, max_iter=10000)\n",
    "mlp.fit(X_train_norm, y_train)\n",
    "print('Accuracy:', mlp.score(X_test_norm, y_test))\n",
    "\n",
    "# plot loss curve\n",
    "fig, ax = plt.subplots()\n",
    "ax.plot(mlp.loss_curve_);"
   ]
  },
  {
   "cell_type": "markdown",
   "metadata": {},
   "source": [
    "# Wine dataset"
   ]
  },
  {
   "cell_type": "code",
   "execution_count": 88,
   "metadata": {},
   "outputs": [],
   "source": [
    "with open('wine.csv') as f:\n",
    "    wine_data = list(csv.reader(f))"
   ]
  },
  {
   "cell_type": "code",
   "execution_count": 101,
   "metadata": {},
   "outputs": [
    {
     "name": "stdout",
     "output_type": "stream",
     "text": [
      "Accuracy: 0.9642857142857143\n"
     ]
    },
    {
     "data": {
      "image/png": "[encoded data removed]",
      "text/plain": [
       "<Figure size 432x288 with 1 Axes>"
      ]
     },
     "metadata": {
      "needs_background": "light"
     },
     "output_type": "display_data"
    }
   ],
   "source": [
    "shuffle(wine_data)\n",
    "X_train = MinMaxScaler().fit_transform([list(map(float, row[1:])) for row in wine_data[:150]])\n",
    "X_test = MinMaxScaler().fit_transform([list(map(float, row[1:])) for row in wine_data[150:]])\n",
    "y_train = [int(row[0]) for row in wine_data[:150]]\n",
    "y_test = [int(row[0]) for row in wine_data[150:]]\n",
    "\n",
    "mlp = MLPClassifier(learning_rate_init=0.3)\n",
    "mlp.fit(X_train, y_train)\n",
    "print('Accuracy:', mlp.score(X_test, y_test))\n",
    "\n",
    "fig, ax = plt.subplots()\n",
    "ax.plot(mlp.loss_curve_);"
   ]
  }
 ],
 "metadata": {
  "kernelspec": {
   "display_name": "Python 3",
   "language": "python",
   "name": "python3"
  },
  "language_info": {
   "codemirror_mode": {
    "name": "ipython",
    "version": 3
   },
   "file_extension": ".py",
   "mimetype": "text/x-python",
   "name": "python",
   "nbconvert_exporter": "python",
   "pygments_lexer": "ipython3",
   "version": "3.7.3"
  }
 },
 "nbformat": 4,
 "nbformat_minor": 2
}
