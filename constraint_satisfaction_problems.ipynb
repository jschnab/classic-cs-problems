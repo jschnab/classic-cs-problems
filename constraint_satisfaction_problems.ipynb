{
 "cells": [
  {
   "cell_type": "code",
   "execution_count": null,
   "metadata": {},
   "outputs": [],
   "source": [
    "from typing import Generic, TypeVar, Dict, List, NamedTuple, Optional\n",
    "from abc import ABC, abstractmethod\n",
    "from random import choice\n",
    "from string import ascii_uppercase\n",
    "\n",
    "\n",
    "V = TypeVar('V')\n",
    "D = TypeVar('D')\n",
    "\n",
    "class Constraint(Generic[V, D], ABC):\n",
    "    def __init__(self, variables: List[V]) -> None:\n",
    "        self.variables = variables\n",
    "        \n",
    "    @abstractmethod\n",
    "    def satisfied(self, assignment: Dict[V, D]) -> bool:\n",
    "        ..."
   ]
  },
  {
   "cell_type": "markdown",
   "metadata": {},
   "source": [
    "Constraint-satisfaction problems have **variables** V with range of values known as **domains** D and **constraints** which determine if a particular variable's domain selection is valid."
   ]
  },
  {
   "cell_type": "code",
   "execution_count": null,
   "metadata": {},
   "outputs": [],
   "source": [
    "class CSP(Generic[V, D]):\n",
    "    def __init__(self, variables: List[V], domains: Dict[V, List[D]]) -> None:\n",
    "        self.variables: List[V] = variables\n",
    "        self.domains: Dict[V, List[D]] = domains\n",
    "        self.constraints: Dict[V, List[Constraint[V, D]]] = {}\n",
    "            \n",
    "        for v in self.variables:\n",
    "            self.constraints[v] = []\n",
    "            if v not in domains:\n",
    "                raise LookupError(f'Variable {v} does not have a domain.')\n",
    "                \n",
    "    def add_constraint(self, constraint: Constraint[V, D]) -> None:\n",
    "        for v in constraint.variables:\n",
    "            if v not in self.variables:\n",
    "                raise LookupError(f'Variable {v} is in constraint but not in CSP.')\n",
    "            self.constraints[v].append(constraint)\n",
    "            \n",
    "    def consistent(self, variable: V, assignment: Dict[V, D]) -> bool:\n",
    "        \"\"\"Check if the value assignment is consistent.\"\"\"\n",
    "        for c in self.constraints[variable]:\n",
    "            if not c.satisfied(assignment):\n",
    "                return False\n",
    "        return True\n",
    "        \n",
    "    def backtracking_search(self, assignment: Dict[V, D]=None) -> Optional[Dict[V, D]]:\n",
    "        if not assignment:\n",
    "            assignment = {}\n",
    "        \n",
    "        # assignment is complete if every variable is assigned (base case)\n",
    "        if len(assignment) == len(self.variables):\n",
    "            return assignment\n",
    "        \n",
    "        # get all the variables in the CSP but not in the assignment\n",
    "        unassigned: List[V] = [v for v in self.variables if v not in assignment]\n",
    "            \n",
    "        # get every possible domain value of the first non-assigned variable\n",
    "        first: V = unassigned[0]\n",
    "        for value in self.domains[first]:\n",
    "            local_assignment = assignment.copy()\n",
    "            local_assignment[first] = value\n",
    "            \n",
    "            # if we're still consistent, we recurse (continue)\n",
    "            if self.consistent(first, local_assignment):\n",
    "                result: Optional[Dict[V, D]] = self.backtracking_search(local_assignment)\n",
    "                    \n",
    "                # if we did not find the result, we will end up backtracking\n",
    "                if result is not None:\n",
    "                    return result\n",
    "                \n",
    "        return"
   ]
  },
  {
   "cell_type": "markdown",
   "metadata": {},
   "source": [
    "# Australia map coloring\n",
    "We make a class which defines a constraint on how to color a map of Australia and have neighbouring states with different colors."
   ]
  },
  {
   "cell_type": "code",
   "execution_count": null,
   "metadata": {},
   "outputs": [],
   "source": [
    "class MapColoringConstraint(Constraint[str, str]):\n",
    "    def __init__(self, place1: str, place2: str) -> None:\n",
    "        super().__init__([place1, place2])\n",
    "        self.place1: str = place1\n",
    "        self.place2: str = place2\n",
    "            \n",
    "    def satisfied(self, assignment: Dict[str, str]) -> bool:\n",
    "        if self.place1 not in assignment or self.place2 not in assignment:\n",
    "            return True\n",
    "        \n",
    "        return assignment[self.place1] != assignment[self.place2]"
   ]
  },
  {
   "cell_type": "code",
   "execution_count": null,
   "metadata": {},
   "outputs": [],
   "source": [
    "variables: List[str] = [\n",
    "    'Western Australia',\n",
    "    'Northern Territory',\n",
    "    'South Australia',\n",
    "    'Queensland',\n",
    "    'New South Wales',\n",
    "    'Victoria',\n",
    "    'Tasmania'\n",
    "]\n",
    "\n",
    "domains: Dict[str, List[str]] = {}\n",
    "    \n",
    "for v in variables:\n",
    "    domains[v] = ['red', 'green', 'blue']\n",
    "\n",
    "csp: CSP[str, str] = CSP(variables, domains)\n",
    "csp.add_constraint(MapColoringConstraint('Western Australia', 'Northern Territory'))\n",
    "csp.add_constraint(MapColoringConstraint('Western Australia', 'South Australia'))\n",
    "csp.add_constraint(MapColoringConstraint('South Australia', 'Northern Territory'))\n",
    "csp.add_constraint(MapColoringConstraint('Queensland', 'Northern Territory'))\n",
    "csp.add_constraint(MapColoringConstraint('Queensland', 'New South Wales'))\n",
    "csp.add_constraint(MapColoringConstraint('Queensland', 'South Australia'))\n",
    "csp.add_constraint(MapColoringConstraint('South Australia', 'New South Wales'))\n",
    "csp.add_constraint(MapColoringConstraint('South Australia', 'Queensland'))\n",
    "csp.add_constraint(MapColoringConstraint('South Australia', 'Victoria'))\n",
    "csp.add_constraint(MapColoringConstraint('Victoria', 'New South Wales'))\n",
    "csp.add_constraint(MapColoringConstraint('Victoria', 'Tasmania'))"
   ]
  },
  {
   "cell_type": "code",
   "execution_count": null,
   "metadata": {},
   "outputs": [],
   "source": [
    "solution: Optional[Dict[str, str]] = csp.backtracking_search()\n",
    "if solution is None:\n",
    "    print('No solution found.')\n",
    "else:\n",
    "    for k, v in solution.items():\n",
    "        print(f'{k}: {v}')"
   ]
  },
  {
   "cell_type": "markdown",
   "metadata": {},
   "source": [
    "# 8 Queens problem\n",
    "How can we place 8 queens on the checkboard so that they are not attacking each other?"
   ]
  },
  {
   "cell_type": "code",
   "execution_count": null,
   "metadata": {},
   "outputs": [],
   "source": [
    "columns: List[int] = list(range(1, 9))\n",
    "rows: Dict[int, List[int]] = {}\n",
    "for c in columns:\n",
    "    rows[c] = list(range(1, 9))\n",
    "csp: CSP[int, int] = CSP(columns, rows)\n",
    "    \n",
    "class QueenConstraint(Constraint[int, int]):\n",
    "    def __init__(self, columns: List[int]) -> None:\n",
    "        super().__init__(columns)\n",
    "        self.columns: List[int] = columns\n",
    "        \n",
    "    def satisfied(self, assignment: Dict[int, int]) -> bool:\n",
    "        for q1c, q1r in assignment.items():\n",
    "            for q2c in range(q1c + 1, len(self.columns) + 1):\n",
    "                if q2c in assignment:\n",
    "                    q2r: int = assignment[q2c]\n",
    "                    if q1r == q2r:  # same row\n",
    "                        return False\n",
    "                    if abs(q1c - q2c) == abs(q1r - q2r):  # same diagonal\n",
    "                        return False\n",
    "        return True"
   ]
  },
  {
   "cell_type": "code",
   "execution_count": null,
   "metadata": {},
   "outputs": [],
   "source": [
    "csp.add_constraint(QueenConstraint(columns))\n",
    "solution: Optional[Dict[int, int]] = csp.backtracking_search()\n",
    "solution"
   ]
  },
  {
   "cell_type": "markdown",
   "metadata": {},
   "source": [
    "# Word search"
   ]
  },
  {
   "cell_type": "code",
   "execution_count": null,
   "metadata": {},
   "outputs": [],
   "source": [
    "Grid = List[List[str]]\n",
    "\n",
    "class GridLocation(NamedTuple):\n",
    "    row: int\n",
    "    column: int\n",
    "        \n",
    "def generate_grid(rows: int, columns: int) -> Grid:\n",
    "    return [[choice(ascii_uppercase) for c in range(columns)] for r in range(rows)]\n",
    "\n",
    "def display_grid(grid: Grid) -> None:\n",
    "    for row in grid:\n",
    "        print(''.join(row))\n",
    "        \n",
    "def generate_domain(word: str, grid: Grid) -> List[List[GridLocation]]:\n",
    "    domain: List[List[GridLocation]] = []\n",
    "    height: int = len(grid)\n",
    "    width: int = len(grid[0])\n",
    "    length: int = len(word)\n",
    "    for row in range(height):\n",
    "        for column in range(width):\n",
    "            rows: range = range(row, row + length + 1)\n",
    "            columns: range = range(column, column + length + 1)\n",
    "            if column + length <= width:\n",
    "                # left to right\n",
    "                domain.append([GridLocation(row, c) for c in columns])\n",
    "                # diagonals towards bottom right\n",
    "                if row + length <= height:\n",
    "                    domain.append([GridLocation(r, column + (r - row)) for r in rows])\n",
    "            if row + length <= height:\n",
    "                # top to bottom\n",
    "                domain.append([GridLocation(r, column) for r in rows])\n",
    "                # diagonal towards bottom left\n",
    "                if column - length >= 0:\n",
    "                    domain.append([GridLocation(r, c - (r - row)) for r in rows])\n",
    "    return domain"
   ]
  },
  {
   "cell_type": "code",
   "execution_count": null,
   "metadata": {},
   "outputs": [],
   "source": [
    "[GridLocation(r, c) for r in range(3) for c in range(3)]"
   ]
  },
  {
   "cell_type": "code",
   "execution_count": null,
   "metadata": {},
   "outputs": [],
   "source": [
    "class WordSearchConstraint(Constraint[str, List[GridLocation]]):\n",
    "    def __init__(self, words: List[str]) -> None:\n",
    "        super().__init__(words)\n",
    "        self.words: List[str] = words\n",
    "            \n",
    "    def satisfied(self, assignment: Dict[str, List[GridLocation]]) -> bool:\n",
    "        # if there are any duplicate grid locations, then there is an overlap\n",
    "        all_locations = [locs for values in assignment.values() for locs in values]\n",
    "        return len(set(all_locations)) == len(all_locations)"
   ]
  },
  {
   "cell_type": "code",
   "execution_count": null,
   "metadata": {},
   "outputs": [],
   "source": [
    "grid: Grid = generate_grid(9, 9)\n",
    "words: List[str] = ['MATTHEW', 'JOE', 'MARY', 'SARAH', 'SALLY']\n",
    "locations: Dict[str, List[List[GridLocation]]] = {}\n",
    "for word in words:\n",
    "    locations[word] = generate_domain(word, grid)\n",
    "csp: CSP[str, List[GridLocation]] = CSP(words, locations)\n",
    "csp.add_constraint(WordSearchConstraint(words))\n",
    "# solution: Optional[Dict[str, List[GridLocation]]] = csp.backtracking_search()\n",
    "# if solution is None:\n",
    "#     print('No solution was found.')\n",
    "# else:\n",
    "#     for word, locations in solution.items():\n",
    "#         # reverse randomly half the time\n",
    "#         if choice([True, False]):\n",
    "#             locations.reverse()\n",
    "#         for index, letter in enumerate(word):\n",
    "#             grid[locations[index].row][locations[index].column] = letter\n",
    "#     display_grid(grid)"
   ]
  },
  {
   "cell_type": "markdown",
   "metadata": {},
   "source": [
    "# Send More Money"
   ]
  },
  {
   "cell_type": "code",
   "execution_count": null,
   "metadata": {},
   "outputs": [],
   "source": [
    "class SendMoreMoneyConstraint(Constraint[str, int]):\n",
    "    def __init__(self, letters: List[str]) -> None:\n",
    "        super().__init__(letters)\n",
    "        self.letters: List[str] = letters\n",
    "            \n",
    "    def satisfied(self, assignment: Dict[str, int]) -> bool:\n",
    "        # if there are some duplicates values then there is no solution\n",
    "        if len(set(assignment.values())) < len(assignment):\n",
    "            return False\n",
    "        \n",
    "        # if all variables have been assigned, check it adds correctly\n",
    "        if len(assignment) == len(self.letters):\n",
    "            s: int = assignment['S']\n",
    "            e: int = assignment['E']\n",
    "            n: int = assignment['N']\n",
    "            d: int = assignment['D']\n",
    "            m: int = assignment['M']\n",
    "            o: int = assignment['O']\n",
    "            r: int = assignment['R']\n",
    "            y: int = assignment['Y']\n",
    "            send = 1000 * s + 100 * e + 10 * n + d\n",
    "            more = 1000 * m + 100 * o + 10 * r + e\n",
    "            money = 10000 * m + 1000 * o + 100 * n + 10 * e + y\n",
    "            return send + more == money\n",
    "        \n",
    "        # no conflict\n",
    "        return True   "
   ]
  },
  {
   "cell_type": "code",
   "execution_count": null,
   "metadata": {},
   "outputs": [],
   "source": [
    "letters: List[str] = ['S', 'E', 'N', 'D', 'M', 'O', 'R', 'Y']\n",
    "possible_digits: Dict[str, List[int]] = {}\n",
    "for letter in letters:\n",
    "    possible_digits[letter] = [0, 1, 2, 3, 4, 5, 6, 7, 8, 9]\n",
    "possible_digits['M'] = [1]  # we won't get answers starting with 0\n",
    "csp: CSP[str, int] = CSP(letters, possible_digits)\n",
    "csp.add_constraint(SendMoreMoneyConstraint(letters))\n",
    "solution: Optional[Dict[str, int]] = csp.backtracking_search()\n",
    "if not solution:\n",
    "    print('No solution was found.')\n",
    "else:\n",
    "    print(solution)"
   ]
  }
 ],
 "metadata": {
  "kernelspec": {
   "display_name": "Python 3",
   "language": "python",
   "name": "python3"
  },
  "language_info": {
   "codemirror_mode": {
    "name": "ipython",
    "version": 3
   },
   "file_extension": ".py",
   "mimetype": "text/x-python",
   "name": "python",
   "nbconvert_exporter": "python",
   "pygments_lexer": "ipython3",
   "version": "3.6.6"
  }
 },
 "nbformat": 4,
 "nbformat_minor": 2
}
